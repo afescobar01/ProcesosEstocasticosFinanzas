{
  "nbformat": 4,
  "nbformat_minor": 0,
  "metadata": {
    "colab": {
      "name": "IntroPython.ipynb",
      "provenance": []
    },
    "kernelspec": {
      "name": "python3",
      "display_name": "Python 3"
    },
    "language_info": {
      "name": "python"
    }
  },
  "cells": [
    {
      "cell_type": "markdown",
      "source": [
        "<p><img alt=\"Colaboratory logo\" height=\"140px\" src=\"https://upload.wikimedia.org/wikipedia/commons/c/ce/Logo-ITM-01.png\" align=\"left\" hspace=\"20px\" vspace=\"0px\"></p>\n",
        "\n",
        "<center>\n",
        "\n",
        "<h1> <b>PROCESOS ESTOCÁSTICOS EN FINANZAS</b> </h1>\n",
        "\n",
        "<h3>SEMESTRE 2022-1</h3> </center>"
      ],
      "metadata": {
        "id": "8C5dihwlAILs"
      }
    },
    {
      "cell_type": "markdown",
      "source": [
        "<p><a name=\"contents\"></a></p>\n",
        "\n",
        "# Agenda\n",
        "\n",
        "- <a href=\"#colabIntro\">1. Introducción al Colaboratory de Google</a><br>\n",
        "- <a href=\"#pythonIntro\">2. Introducción a Python</a><br>"
      ],
      "metadata": {
        "id": "78VEHUZkBOFc"
      }
    },
    {
      "cell_type": "markdown",
      "source": [
        "<p><a name=\"colabIntro\"></a></p>\n",
        "\n",
        "# 1. Introducción a Google Colaboratory\n",
        "\n",
        "[[Contenidos]](#contents)\n",
        "\n",
        "Este documento que está leyendo es un [Notebook de Jupyter](https://jupyter.org/), almacenado en el Colaboratory de Google. No es una página estática, se trata de un ambiente interactivo en el cual puede ejecutar scrips en Python, además de otros programas.\n",
        "\n",
        "Por ejemplo, a continuación se muestra una **celda de código** con un pequeño script de Python que calcula un value, lo almacena en una variable y lo imprime en pantalla:"
      ],
      "metadata": {
        "id": "kNfEsz3jBo2L"
      }
    },
    {
      "cell_type": "code",
      "execution_count": null,
      "metadata": {
        "colab": {
          "base_uri": "https://localhost:8080/"
        },
        "id": "_3fMw192_A7K",
        "outputId": "a8d66583-b2d5-4bdc-8caf-49ff74a102df"
      },
      "outputs": [
        {
          "output_type": "stream",
          "name": "stdout",
          "text": [
            "31536000\n"
          ]
        }
      ],
      "source": [
        "# A continuación se realiza un cálculo sencillo del número de segundos en un año, se almacena dicho cálculo en la variable secs_per_year y se imprime en pantalla\n",
        "\n",
        "secs_per_year=365*24*3600\n",
        "\n",
        "print(secs_per_year)"
      ]
    },
    {
      "cell_type": "markdown",
      "metadata": {
        "id": "iX44Mqu5Kh2D"
      },
      "source": [
        "Para ejecutar el anterior código, se debe seleccionar haciendo click en la celda, y se debe hacer click el botón \"play\" a la izquierda de la celda; también puede usar los atajos de teclado \"Shift/Ctrl+Enter\".\n",
        "\n",
        "Todas las variables son almacenadas de forma global, de tal manera que se puede usar y modificar en celdas diferentes. En los dos siguientes ejemplos se muestran modificaciones ejecutadas sobre la variable secs_per_year"
      ]
    },
    {
      "cell_type": "code",
      "metadata": {
        "id": "I9S3cyMmKdOu"
      },
      "source": [
        "print(\"Valor de la variable inicial\",secs_per_year)\n",
        "\n",
        "#Modificación 1 de la variable sec_per_year\n",
        "\n",
        "secs_per_year=secs_per_year/2;\n",
        "\n",
        "print(\"Valor de la variable modificado\", secs_per_year)"
      ],
      "execution_count": null,
      "outputs": []
    },
    {
      "cell_type": "markdown",
      "metadata": {
        "id": "46n-su3XKo1v"
      },
      "source": [
        "## More Resources\n",
        "\n",
        "Learn how to make the most of Python, Jupyter, Colaboratory, and related tools with these resources:\n",
        "\n",
        "### Working with Notebooks in Colaboratory\n",
        "- [Overview of Colaboratory](/notebooks/basic_features_overview.ipynb)\n",
        "- [Guide to Markdown](/notebooks/markdown_guide.ipynb)\n",
        "- [Importing libraries and installing dependencies](/notebooks/snippets/importing_libraries.ipynb)\n",
        "- [Saving and loading notebooks in GitHub](https://colab.research.google.com/github/googlecolab/colabtools/blob/master/notebooks/colab-github-demo.ipynb)\n",
        "- [Interactive forms](/notebooks/forms.ipynb)\n",
        "- [Interactive widgets](/notebooks/widgets.ipynb)\n",
        "\n",
        "### Working with Data\n",
        "- [Loading data: Drive, Sheets, and Google Cloud Storage](/notebooks/io.ipynb) \n",
        "- [Charts: visualizing data](/notebooks/charts.ipynb)\n",
        "- [Getting started with BigQuery](/notebooks/bigquery.ipynb)\n",
        "\n",
        "### Machine Learning Crash Course\n",
        "These are a few of the notebooks from Google's online Machine Learning course. See the [full course website](https://developers.google.com/machine-learning/crash-course/) for more.\n",
        "- [Intro to Pandas](/notebooks/mlcc/intro_to_pandas.ipynb)\n",
        "- [Tensorflow concepts](/notebooks/mlcc/tensorflow_programming_concepts.ipynb)\n",
        "- [First steps with TensorFlow](/notebooks/mlcc/first_steps_with_tensor_flow.ipynb)\n",
        "- [Intro to neural nets](/notebooks/mlcc/intro_to_neural_nets.ipynb)\n",
        "- [Intro to sparse data and embeddings](/notebooks/mlcc/intro_to_sparse_data_and_embeddings.ipynb)\n",
        "\n",
        "### Using Accelerated Hardware\n",
        "- [TensorFlow with GPUs](/notebooks/gpu.ipynb)\n",
        "- [TensorFlow with TPUs](/notebooks/tpu.ipynb)"
      ]
    },
    {
      "cell_type": "markdown",
      "metadata": {
        "id": "bUDA8zN5K02T"
      },
      "source": [
        "<p><a name=\"pythonIntro\"></a></p>\n",
        "\n",
        "# 2. Introducción a Python\n",
        "\n",
        "El objetivo de la presente sección es el de suministrar al lector una breve introducción al lenguaje Python, y ayudar a los principiantes a familiarizarse con dicho lenguaje."
      ]
    },
    {
      "cell_type": "markdown",
      "metadata": {
        "id": "mm-UYXIwNB9H"
      },
      "source": [
        "<p><a name=\"mods\"></a></p>\n",
        "\n",
        "## 2.1. Módulos\n",
        "\n",
        "La mayoria de funcionalidades en Python estan proporcionadas por los módulos. Para poder usar un módulo en un programa de Python lo primero que se debe realizar es importarlo mediante la sentencia **import**. Por ejemplo, para importa el módulo *math*, el cual contiene gran variedad de funciones matemáticas, podemos hacer lo siguiente"
      ]
    },
    {
      "cell_type": "code",
      "source": [
        "import math\n",
        "# math?"
      ],
      "metadata": {
        "id": "BW1mG9NtB6ey"
      },
      "execution_count": null,
      "outputs": []
    },
    {
      "cell_type": "markdown",
      "metadata": {
        "id": "l7_4C6TXNX2E"
      },
      "source": [
        "*La* línea de código anterior implica la importación de todo el módulo, haciéndolo disponible para su uso posterior dentro del programa. Por ejemplo, podemos usar funciones triconométricas para calcular algún valor y almacenarlo en una variable:"
      ]
    },
    {
      "cell_type": "code",
      "source": [
        "x = math.cos(2*math.pi)\n",
        "x"
      ],
      "metadata": {
        "colab": {
          "base_uri": "https://localhost:8080/"
        },
        "id": "xDeUPlRZHzVf",
        "outputId": "413fb638-84af-4089-f975-7a8603f186eb"
      },
      "execution_count": null,
      "outputs": [
        {
          "output_type": "execute_result",
          "data": {
            "text/plain": [
              "1.0"
            ]
          },
          "metadata": {},
          "execution_count": 6
        }
      ]
    },
    {
      "cell_type": "markdown",
      "metadata": {
        "id": "FGl7pjtzOGRe"
      },
      "source": [
        "En lugar de importar una librería completa, lo que puede llevar a un tiempo de ejecución o un consumo de memoria innecesario, podemos escoger importar unas cuantas funciones del módulo haciendo explicito cuales de ellas queremos importar. Por ejemplo, podemos elegir importar solo las funciones $\\sin$ y el valor de $\\pi$:"
      ]
    },
    {
      "cell_type": "code",
      "source": [
        "from math import sin, pi\n",
        "\n",
        "x = sin(pi/6)\n",
        "x"
      ],
      "metadata": {
        "colab": {
          "base_uri": "https://localhost:8080/"
        },
        "id": "vLiblz8ZIoPE",
        "outputId": "e2477253-ec64-45ce-ffb0-9ebb53e8aaf5"
      },
      "execution_count": null,
      "outputs": [
        {
          "output_type": "execute_result",
          "data": {
            "text/plain": [
              "0.49999999999999994"
            ]
          },
          "metadata": {},
          "execution_count": 13
        }
      ]
    },
    {
      "cell_type": "markdown",
      "metadata": {
        "id": "wG9rfeRCOQRd"
      },
      "source": [
        "También es posible asignarle un nombre de acceso a los modolus o símbolos que se importan mediante el uso de **as**:"
      ]
    },
    {
      "cell_type": "code",
      "source": [
        "import numpy as np\n",
        "# np?\n",
        "from math import pi as number_pi\n",
        "\n",
        "# Convertir el número pi de radianes a grados.\n",
        "\n",
        "x = np.rad2deg(number_pi)\n",
        "x"
      ],
      "metadata": {
        "colab": {
          "base_uri": "https://localhost:8080/"
        },
        "id": "tnDeIDadI0qp",
        "outputId": "cb120446-f659-400e-d981-3b75f15bbaf8"
      },
      "execution_count": null,
      "outputs": [
        {
          "output_type": "execute_result",
          "data": {
            "text/plain": [
              "180.0"
            ]
          },
          "metadata": {},
          "execution_count": 9
        }
      ]
    },
    {
      "cell_type": "markdown",
      "metadata": {
        "id": "Y97URGQxOyDL"
      },
      "source": [
        "<p><a name=\"ayuda\"></a></p>\n",
        "\n",
        "## 2.2. Ayudas y descripciones\n",
        "\n",
        "Mediante el uso de la función $help$, se puede obtener una descripción de casi todas las funciones. Por ejemplo, para obtener una descripción de la funcion $log$ de la libreria $math$ ejecutamos el siguiente comando:"
      ]
    },
    {
      "cell_type": "code",
      "source": [
        "   help(math.log)"
      ],
      "metadata": {
        "colab": {
          "base_uri": "https://localhost:8080/"
        },
        "id": "VdMt3uSCJJ3E",
        "outputId": "9ab296be-5b68-476e-8f91-41e448abc768"
      },
      "execution_count": null,
      "outputs": [
        {
          "output_type": "stream",
          "name": "stdout",
          "text": [
            "Help on built-in function log in module math:\n",
            "\n",
            "log(...)\n",
            "    log(x, [base=math.e])\n",
            "    Return the logarithm of x to the given base.\n",
            "    \n",
            "    If the base not specified, returns the natural logarithm (base e) of x.\n",
            "\n"
          ]
        }
      ]
    },
    {
      "cell_type": "markdown",
      "metadata": {
        "id": "eSwEOTd9PGH5"
      },
      "source": [
        "Tambien puede obtener la ayuda poniendo el sígno interrogante (?) al final de la expresión, así:"
      ]
    },
    {
      "cell_type": "code",
      "source": [
        "math.log?"
      ],
      "metadata": {
        "id": "xlO0TSyFKlEL"
      },
      "execution_count": null,
      "outputs": []
    },
    {
      "cell_type": "code",
      "source": [
        "math.log(7)"
      ],
      "metadata": {
        "colab": {
          "base_uri": "https://localhost:8080/"
        },
        "id": "BH78JyOnKu19",
        "outputId": "49ee8b00-ef56-47ec-a17c-74b2d985f0c7"
      },
      "execution_count": null,
      "outputs": [
        {
          "output_type": "execute_result",
          "data": {
            "text/plain": [
              "1.9459101490553132"
            ]
          },
          "metadata": {},
          "execution_count": 16
        }
      ]
    },
    {
      "cell_type": "code",
      "source": [
        "math.log(7,2)"
      ],
      "metadata": {
        "colab": {
          "base_uri": "https://localhost:8080/"
        },
        "id": "tsAd7C30K2tB",
        "outputId": "fdb6639d-d469-4964-ab59-62407d49be45"
      },
      "execution_count": null,
      "outputs": [
        {
          "output_type": "execute_result",
          "data": {
            "text/plain": [
              "2.807354922057604"
            ]
          },
          "metadata": {},
          "execution_count": 19
        }
      ]
    },
    {
      "cell_type": "code",
      "source": [
        "math.log(7,7)"
      ],
      "metadata": {
        "colab": {
          "base_uri": "https://localhost:8080/"
        },
        "id": "j9wXonsQK-wx",
        "outputId": "d577cad6-7022-4916-e765-e731fd1c7656"
      },
      "execution_count": null,
      "outputs": [
        {
          "output_type": "execute_result",
          "data": {
            "text/plain": [
              "1.0"
            ]
          },
          "metadata": {},
          "execution_count": 20
        }
      ]
    },
    {
      "cell_type": "markdown",
      "metadata": {
        "id": "vddfC57zQHUP"
      },
      "source": [
        "<p><a name=\"vars\"></a></p>\n",
        "\n",
        "## 2.3. Variables y Tipos de Variables\n"
      ]
    },
    {
      "cell_type": "markdown",
      "metadata": {
        "id": "Y0FY22l1QaeN"
      },
      "source": [
        "<p><a name=\"syms\"></a></p>\n",
        "\n",
        "### 2.3.1. Variables\n",
        "\n",
        "Los nombres de las variables en Python pueden contener caracteres alfanuméricos *a-z*, *A-Z*, *0-9* y algunos caracteres especiales como _. Los nombres de las variables deben comenzar con una letra. \n",
        "\n",
        "Por convención, los nombres de las variables comienzan con letras minúsculas.\n",
        "\n",
        "Adicionalmente, existe un número de palabras claves que no pueden ser usadas como nombres de variables. Estas palabras claves son:\n",
        "\n",
        "> `and, as, assert, break, class, continue, def, del, elif, else, except, exec, finally, for, from, global, if, import, in, is, lambda, not, or, pass, print, raise, return, try, while, with, yield`"
      ]
    },
    {
      "cell_type": "markdown",
      "metadata": {
        "id": "lj0GuaNeRAAr"
      },
      "source": [
        "<p><a name=\"asign\"></a></p>\n",
        "\n",
        "### 2.3.2. Asignación.\n",
        "\n",
        "En Python, el operado de asignación es \"=\".  Python es un lenguaje de tipado dinámico, de tal forma que no es necesario asignarle un tipo a la variable cuando es creada.\n",
        "\n",
        "La asignación de un valor a una variable crea la variable. Por ejemplo:"
      ]
    },
    {
      "cell_type": "code",
      "source": [
        "# asignación a una variable\n",
        "\n",
        "x = 1.0"
      ],
      "metadata": {
        "id": "h_ClPH53LXDu"
      },
      "execution_count": null,
      "outputs": []
    },
    {
      "cell_type": "markdown",
      "metadata": {
        "id": "UjXn_27GSSXZ"
      },
      "source": [
        "<p><a name=\"ftypes\"></a></p>\n",
        "\n",
        "### 2.3.3. Tipos de variables.\n",
        "\n",
        "Aunque no se hizo explicito en el ejemplo anterior, la variable tiene un tipo asociado a ella. El tipo de la variable puede deducirse del valor que le fue asignado.\n",
        "\n",
        "En Python, los tipos de variables fundamentales son:\n",
        "\n",
        "\n",
        "1.   Enteros (int).\n",
        "2.   Punto flotante (float).\n",
        "3.   Buleanos (boolean)\n",
        "4.   Cadena de caracteres (strings).\n",
        "\n",
        "\n",
        "Podemos consultar el tipo de variable mediante la función type.\n",
        "\n",
        "Veamos algunos ejemplos:\n"
      ]
    },
    {
      "cell_type": "code",
      "source": [
        "# integers\n",
        "\n",
        "x = 1\n",
        "type(x)"
      ],
      "metadata": {
        "colab": {
          "base_uri": "https://localhost:8080/"
        },
        "id": "I45kD9UkMWhv",
        "outputId": "fd876ef2-c29b-49d5-9241-6b5f309c40b4"
      },
      "execution_count": null,
      "outputs": [
        {
          "output_type": "execute_result",
          "data": {
            "text/plain": [
              "int"
            ]
          },
          "metadata": {},
          "execution_count": 22
        }
      ]
    },
    {
      "cell_type": "code",
      "source": [
        "# float \n",
        "\n",
        "x = 1.0\n",
        "type(x)"
      ],
      "metadata": {
        "colab": {
          "base_uri": "https://localhost:8080/"
        },
        "id": "9c89B5GvNJtk",
        "outputId": "67a5b46d-5a43-4b86-ed65-46fa150540db"
      },
      "execution_count": null,
      "outputs": [
        {
          "output_type": "execute_result",
          "data": {
            "text/plain": [
              "float"
            ]
          },
          "metadata": {},
          "execution_count": 23
        }
      ]
    },
    {
      "cell_type": "code",
      "source": [
        "# boolean\n",
        "\n",
        "b1 = True\n",
        "b2 = False\n",
        "\n",
        "type(b1), type(b2)"
      ],
      "metadata": {
        "colab": {
          "base_uri": "https://localhost:8080/"
        },
        "id": "plEvNsHZNMi1",
        "outputId": "48557c88-c5f2-475e-ff31-489aa7d9ad1a"
      },
      "execution_count": null,
      "outputs": [
        {
          "output_type": "execute_result",
          "data": {
            "text/plain": [
              "(bool, bool)"
            ]
          },
          "metadata": {},
          "execution_count": 24
        }
      ]
    },
    {
      "cell_type": "code",
      "source": [
        "# string\n",
        "s = \"Hola Mundo\"\n",
        "\n",
        "type(s)"
      ],
      "metadata": {
        "colab": {
          "base_uri": "https://localhost:8080/"
        },
        "id": "aG70CCLPNQuB",
        "outputId": "ef1df144-5daf-4918-8aaa-fac2cfd1d783"
      },
      "execution_count": null,
      "outputs": [
        {
          "output_type": "execute_result",
          "data": {
            "text/plain": [
              "str"
            ]
          },
          "metadata": {},
          "execution_count": 25
        }
      ]
    },
    {
      "cell_type": "markdown",
      "metadata": {
        "id": "OKwrUcAoS32X"
      },
      "source": [
        "<p><a name=\"ops&comps\"></a></p>\n",
        "\n",
        "## 2.4. Operadores."
      ]
    },
    {
      "cell_type": "markdown",
      "source": [
        "<p><a name=\"ops&comps\"></a></p>\n",
        "\n",
        "### 2.4.1 Operadores aritméticos\n",
        "\n",
        "La mayoria de operadores aritméticos poseen el significado al que comunmente estamos acostumbrados:\n",
        "<br>\n",
        "<br>\n",
        "*   Operadores aritméticos  `+`, `-`, `*`, `/`, `**` (potencia), `%` (módulo)\n",
        "*  Nótese que la potenciación en Python se escribe de la forma ** y no como ^"
      ],
      "metadata": {
        "id": "l9yc1g5BNs4P"
      }
    },
    {
      "cell_type": "code",
      "source": [
        "[1 + 2, 1 - 2, 1 * 2, 3**2, 5 % 3]"
      ],
      "metadata": {
        "colab": {
          "base_uri": "https://localhost:8080/"
        },
        "id": "Xu2jvsRhNVBU",
        "outputId": "bb7dd29b-18e9-43b0-e6b2-e15a5553bcec"
      },
      "execution_count": null,
      "outputs": [
        {
          "output_type": "execute_result",
          "data": {
            "text/plain": [
              "[3, -1, 2, 9, 2]"
            ]
          },
          "metadata": {},
          "execution_count": 27
        }
      ]
    },
    {
      "cell_type": "markdown",
      "source": [
        "En Python 2.7, el tipo de división (/) que se ejecute, depende del tipo de números involucrados. Si todos los números son enteros, la división será una divión entera, de lo contrario, será una operación en coma flotante. En Python 3, este hecho ha cambiado y las fracciones no se pierden cuando se dividen dos enteros (para las divisiones enteras se puede usar el operdor //)"
      ],
      "metadata": {
        "id": "p0VpV2PSO7rk"
      }
    },
    {
      "cell_type": "code",
      "source": [
        "from platform import python_version\n",
        "\n",
        "print(python_version())"
      ],
      "metadata": {
        "colab": {
          "base_uri": "https://localhost:8080/"
        },
        "id": "vHRz_K35On7f",
        "outputId": "6aacb29c-1d4c-46c2-b4d3-137cedfb3edb"
      },
      "execution_count": null,
      "outputs": [
        {
          "output_type": "stream",
          "name": "stdout",
          "text": [
            "3.7.12\n"
          ]
        }
      ]
    },
    {
      "cell_type": "code",
      "source": [
        "# En Python 3 las siguientes dos operaciones daran el mismo resultado.\n",
        "# En Python 2, la primera de ellas será tratada como una división entera.\n",
        "\n",
        "print(1/2)\n",
        "print(1/2.0)\n",
        "print(11//6.0)"
      ],
      "metadata": {
        "colab": {
          "base_uri": "https://localhost:8080/"
        },
        "id": "mWxumlOvPEJJ",
        "outputId": "008752a6-719a-4fd9-ffc8-4a07df5e7d83"
      },
      "execution_count": null,
      "outputs": [
        {
          "output_type": "stream",
          "name": "stdout",
          "text": [
            "0.5\n",
            "0.5\n",
            "1.0\n"
          ]
        }
      ]
    },
    {
      "cell_type": "markdown",
      "source": [
        "<p><a name=\"ops&comps\"></a></p>\n",
        "\n",
        "### 2.4.2 Operadores lógicos\n",
        "\n",
        "Las variables booleanas se conectan a través de los operadores lógicos `and`, `not`, `or`."
      ],
      "metadata": {
        "id": "5wbn9vW4Pits"
      }
    },
    {
      "cell_type": "code",
      "source": [
        "True and False"
      ],
      "metadata": {
        "colab": {
          "base_uri": "https://localhost:8080/"
        },
        "id": "PmfrT3psPY8L",
        "outputId": "f42fdcce-0916-4a45-a6d3-5755936a4718"
      },
      "execution_count": null,
      "outputs": [
        {
          "output_type": "execute_result",
          "data": {
            "text/plain": [
              "False"
            ]
          },
          "metadata": {},
          "execution_count": 31
        }
      ]
    },
    {
      "cell_type": "code",
      "source": [
        "not False"
      ],
      "metadata": {
        "colab": {
          "base_uri": "https://localhost:8080/"
        },
        "id": "ZrSw_lV5QKLP",
        "outputId": "9393e98b-7ada-488e-9fe9-e502c5485da6"
      },
      "execution_count": null,
      "outputs": [
        {
          "output_type": "execute_result",
          "data": {
            "text/plain": [
              "True"
            ]
          },
          "metadata": {},
          "execution_count": 32
        }
      ]
    },
    {
      "cell_type": "code",
      "source": [
        "True or False"
      ],
      "metadata": {
        "colab": {
          "base_uri": "https://localhost:8080/"
        },
        "id": "VGtk5l18QMlQ",
        "outputId": "0c67e9b3-4067-4b63-e1ef-0b2ac6433867"
      },
      "execution_count": null,
      "outputs": [
        {
          "output_type": "execute_result",
          "data": {
            "text/plain": [
              "True"
            ]
          },
          "metadata": {},
          "execution_count": 33
        }
      ]
    },
    {
      "cell_type": "markdown",
      "source": [
        "<p><a name=\"ops&comps\"></a></p>\n",
        "\n",
        "### 2.4.3 Operadores de comparación\n",
        "\n",
        "Los operadores de comparación son: `>`, `<`, `>=`(mayor o igual), `<=` (menor o igual), `==` (igual), `!=`(no igual)\n"
      ],
      "metadata": {
        "id": "A4lAXKGnQTor"
      }
    },
    {
      "cell_type": "code",
      "source": [
        "2>1,2<1"
      ],
      "metadata": {
        "colab": {
          "base_uri": "https://localhost:8080/"
        },
        "id": "zGCs3t72QP_m",
        "outputId": "b991c87d-1aff-472c-d42d-6ea35c8a2da6"
      },
      "execution_count": null,
      "outputs": [
        {
          "output_type": "execute_result",
          "data": {
            "text/plain": [
              "(True, False)"
            ]
          },
          "metadata": {},
          "execution_count": 34
        }
      ]
    },
    {
      "cell_type": "code",
      "source": [
        "#igual a\n",
        "[3,2]==[3,2]"
      ],
      "metadata": {
        "colab": {
          "base_uri": "https://localhost:8080/"
        },
        "id": "5Aw0P3pPQsWt",
        "outputId": "383d8e5e-6301-4515-db31-d569f511ed85"
      },
      "execution_count": null,
      "outputs": [
        {
          "output_type": "execute_result",
          "data": {
            "text/plain": [
              "True"
            ]
          },
          "metadata": {},
          "execution_count": 35
        }
      ]
    },
    {
      "cell_type": "code",
      "source": [
        "# Not equal to\n",
        "\n",
        "2 != 5"
      ],
      "metadata": {
        "colab": {
          "base_uri": "https://localhost:8080/"
        },
        "id": "K1CGNwuvQwAh",
        "outputId": "5dff5448-52f4-4fa8-9bf7-671a5b833e96"
      },
      "execution_count": null,
      "outputs": [
        {
          "output_type": "execute_result",
          "data": {
            "text/plain": [
              "True"
            ]
          },
          "metadata": {},
          "execution_count": 36
        }
      ]
    },
    {
      "cell_type": "markdown",
      "metadata": {
        "id": "rGN9hYomVH2F"
      },
      "source": [
        "<p><a name=\"sltd\"></a></p>\n",
        "\n",
        "## 2.5. Strings y Listas.\n",
        "\n",
        "\n",
        "<p><a name=\"strings\"></a></p>\n",
        "\n",
        "###2.5.1 Strings\n",
        "\n",
        "Las variables que se usan para guardar un mensaje, palabra, etc, se conocen como `strings`"
      ]
    },
    {
      "cell_type": "code",
      "source": [
        "s = \"Hola mundo\"\n",
        "type(s)"
      ],
      "metadata": {
        "colab": {
          "base_uri": "https://localhost:8080/"
        },
        "id": "ty4nDwalQy50",
        "outputId": "35224e57-0358-4d6c-dc61-b378ad2e4097"
      },
      "execution_count": null,
      "outputs": [
        {
          "output_type": "execute_result",
          "data": {
            "text/plain": [
              "str"
            ]
          },
          "metadata": {},
          "execution_count": 37
        }
      ]
    },
    {
      "cell_type": "code",
      "source": [
        "# Longitud del string: Número de caracteres en el string (incluidos espacios)\n",
        "len(s)"
      ],
      "metadata": {
        "colab": {
          "base_uri": "https://localhost:8080/"
        },
        "id": "mKH4A8edfSUB",
        "outputId": "b7e3605a-d145-4d14-f560-190940700eb2"
      },
      "execution_count": null,
      "outputs": [
        {
          "output_type": "execute_result",
          "data": {
            "text/plain": [
              "10"
            ]
          },
          "metadata": {},
          "execution_count": 38
        }
      ]
    },
    {
      "cell_type": "code",
      "source": [
        "# Reemplazo de un substring dentro de un string\n",
        "s2 = s.replace(\"mundo\",\"alumnos\")\n",
        "print(s2)"
      ],
      "metadata": {
        "colab": {
          "base_uri": "https://localhost:8080/"
        },
        "id": "D6jdpiIdfUn1",
        "outputId": "176131db-665b-4675-c498-916f2c154d2f"
      },
      "execution_count": null,
      "outputs": [
        {
          "output_type": "stream",
          "name": "stdout",
          "text": [
            "Hola alumnos\n"
          ]
        }
      ]
    },
    {
      "cell_type": "code",
      "source": [
        "# Comparación de strings\n",
        "\n",
        "\"estar bien\" in \"Me gusta estar bien\" , \"Hola\" not in s2"
      ],
      "metadata": {
        "colab": {
          "base_uri": "https://localhost:8080/"
        },
        "id": "Oof3W1SmfcQ1",
        "outputId": "4cf65090-ba20-40d8-c89d-b60ba257124e"
      },
      "execution_count": null,
      "outputs": [
        {
          "output_type": "execute_result",
          "data": {
            "text/plain": [
              "(True, False)"
            ]
          },
          "metadata": {},
          "execution_count": 43
        }
      ]
    },
    {
      "cell_type": "markdown",
      "metadata": {
        "id": "pthL4q_dVkGH"
      },
      "source": [
        "Podemos indexar los caracteres en un string mediante el uso de []"
      ]
    },
    {
      "cell_type": "code",
      "source": [
        "s[0],s[1],s[2]"
      ],
      "metadata": {
        "colab": {
          "base_uri": "https://localhost:8080/"
        },
        "id": "4_xziN-zfqC6",
        "outputId": "b6a29265-5cfc-4f6d-c1de-8379892a520c"
      },
      "execution_count": null,
      "outputs": [
        {
          "output_type": "execute_result",
          "data": {
            "text/plain": [
              "('H', 'o', 'l')"
            ]
          },
          "metadata": {},
          "execution_count": 44
        }
      ]
    },
    {
      "cell_type": "markdown",
      "metadata": {
        "id": "qije8c__Vtig"
      },
      "source": [
        "**Para los usuarios de MATLAB:** Se debe tener cuidado ya que la indexación en Python empieza en 0.\n",
        "\n",
        "Es posible extraer parte de un string usando la sintaxis `[start:stop]`, en donde se extraen los caracteres entre la posiciones `start` y `stop`:"
      ]
    },
    {
      "cell_type": "code",
      "source": [
        "s[0:4]"
      ],
      "metadata": {
        "colab": {
          "base_uri": "https://localhost:8080/",
          "height": 35
        },
        "id": "JOfIbCsNf_7M",
        "outputId": "6e40b304-84e4-4272-c321-ecef08c2d4bb"
      },
      "execution_count": null,
      "outputs": [
        {
          "output_type": "execute_result",
          "data": {
            "text/plain": [
              "'Hola'"
            ],
            "application/vnd.google.colaboratory.intrinsic+json": {
              "type": "string"
            }
          },
          "metadata": {},
          "execution_count": 45
        }
      ]
    },
    {
      "cell_type": "markdown",
      "metadata": {
        "id": "4mG1H2XAV5kY"
      },
      "source": [
        "Si omitimos en el intervalo el `start` o el `stop`, se toma por defecto el princio y el final de string, respectivamente"
      ]
    },
    {
      "cell_type": "code",
      "source": [
        "s[:4]"
      ],
      "metadata": {
        "colab": {
          "base_uri": "https://localhost:8080/",
          "height": 35
        },
        "id": "_3SAd6XFgN7r",
        "outputId": "33573777-3b52-4107-ca58-069dec1b6e8e"
      },
      "execution_count": null,
      "outputs": [
        {
          "output_type": "execute_result",
          "data": {
            "text/plain": [
              "'Hola'"
            ],
            "application/vnd.google.colaboratory.intrinsic+json": {
              "type": "string"
            }
          },
          "metadata": {},
          "execution_count": 46
        }
      ]
    },
    {
      "cell_type": "code",
      "source": [
        "s[5:]"
      ],
      "metadata": {
        "colab": {
          "base_uri": "https://localhost:8080/",
          "height": 35
        },
        "id": "Geb6EvWigcI2",
        "outputId": "8020635f-d303-46a8-cf2e-266305a8b411"
      },
      "execution_count": null,
      "outputs": [
        {
          "output_type": "execute_result",
          "data": {
            "text/plain": [
              "'mundo'"
            ],
            "application/vnd.google.colaboratory.intrinsic+json": {
              "type": "string"
            }
          },
          "metadata": {},
          "execution_count": 47
        }
      ]
    },
    {
      "cell_type": "code",
      "source": [
        "s[:]"
      ],
      "metadata": {
        "colab": {
          "base_uri": "https://localhost:8080/",
          "height": 35
        },
        "id": "kmvOHLbUgfCe",
        "outputId": "fa60001c-d551-46a8-a555-a36a9f77d267"
      },
      "execution_count": null,
      "outputs": [
        {
          "output_type": "execute_result",
          "data": {
            "text/plain": [
              "'Hola mundo'"
            ],
            "application/vnd.google.colaboratory.intrinsic+json": {
              "type": "string"
            }
          },
          "metadata": {},
          "execution_count": 48
        }
      ]
    },
    {
      "cell_type": "markdown",
      "metadata": {
        "id": "IjyiBh7RWXcU"
      },
      "source": [
        "También podemos definir el tamaño del paso usando la sintaxis `[inicio:final:paso]`(el valor por defecto del paso es 1, como se vio anteriormente)"
      ]
    },
    {
      "cell_type": "code",
      "source": [
        "s[::1]"
      ],
      "metadata": {
        "colab": {
          "base_uri": "https://localhost:8080/",
          "height": 35
        },
        "id": "BJNQ2tvFgh8z",
        "outputId": "f13686b4-6315-4190-89d0-cd466f5715ef"
      },
      "execution_count": null,
      "outputs": [
        {
          "output_type": "execute_result",
          "data": {
            "text/plain": [
              "'Hola mundo'"
            ],
            "application/vnd.google.colaboratory.intrinsic+json": {
              "type": "string"
            }
          },
          "metadata": {},
          "execution_count": 49
        }
      ]
    },
    {
      "cell_type": "code",
      "source": [
        "s[::3]"
      ],
      "metadata": {
        "colab": {
          "base_uri": "https://localhost:8080/",
          "height": 35
        },
        "id": "kebxR9nigrkv",
        "outputId": "a5605120-964c-459a-c3d6-a355550e7221"
      },
      "execution_count": null,
      "outputs": [
        {
          "output_type": "execute_result",
          "data": {
            "text/plain": [
              "'Hauo'"
            ],
            "application/vnd.google.colaboratory.intrinsic+json": {
              "type": "string"
            }
          },
          "metadata": {},
          "execution_count": 50
        }
      ]
    },
    {
      "cell_type": "markdown",
      "metadata": {
        "id": "EX7hNwmcWjXJ"
      },
      "source": [
        "A esta técnica se le conoce con el nombre se *slicing*."
      ]
    },
    {
      "cell_type": "markdown",
      "metadata": {
        "id": "khcXeaxGXMiW"
      },
      "source": [
        "**Ejemplos de formatos de strings**"
      ]
    },
    {
      "cell_type": "code",
      "source": [
        "#Contatenación de strings con +\n",
        "print(\"Común\"+\"mente\")"
      ],
      "metadata": {
        "colab": {
          "base_uri": "https://localhost:8080/"
        },
        "id": "znQUemPEgudr",
        "outputId": "fb4002c1-2b69-41ba-fb5d-32774ec72801"
      },
      "execution_count": null,
      "outputs": [
        {
          "output_type": "stream",
          "name": "stdout",
          "text": [
            "Comúnmente\n"
          ]
        }
      ]
    },
    {
      "cell_type": "code",
      "source": [
        "#La función print concatena dependiendo de como son las entradas.\n",
        "#A continuación se muestran tres resultados diferentes \n",
        "\n",
        "print(\"Común\" \"mente\")\n",
        "print(\"Común\",\"mente\")\n",
        "print((\"Común\",\"mente\"))"
      ],
      "metadata": {
        "colab": {
          "base_uri": "https://localhost:8080/"
        },
        "id": "54O1-iQZhGI5",
        "outputId": "b81cefc6-9dad-450e-f700-009800b7d46f"
      },
      "execution_count": null,
      "outputs": [
        {
          "output_type": "stream",
          "name": "stdout",
          "text": [
            "Comúnmente\n",
            "Común mente\n",
            "('Común', 'mente')\n"
          ]
        }
      ]
    },
    {
      "cell_type": "code",
      "source": [
        "#Por otra parte, la función print convierte todos las entradas a strings\n",
        "print(\"Común\", 1.0, False)"
      ],
      "metadata": {
        "colab": {
          "base_uri": "https://localhost:8080/"
        },
        "id": "GLYeZRDQhL4T",
        "outputId": "911c8845-c94e-4ffd-8516-925421f49905"
      },
      "execution_count": null,
      "outputs": [
        {
          "output_type": "stream",
          "name": "stdout",
          "text": [
            "Común 1.0 False\n"
          ]
        }
      ]
    },
    {
      "cell_type": "code",
      "source": [
        "# Podemos usar la función print en forma similar a como es usada en C\n",
        "\n",
        "print(\"value = %f\" %3.343569)"
      ],
      "metadata": {
        "colab": {
          "base_uri": "https://localhost:8080/"
        },
        "id": "_j6HCw7LhSYj",
        "outputId": "9f353a5c-2424-4101-bf8b-7c0515e0a33d"
      },
      "execution_count": null,
      "outputs": [
        {
          "output_type": "stream",
          "name": "stdout",
          "text": [
            "value = 3.343569\n"
          ]
        }
      ]
    },
    {
      "cell_type": "markdown",
      "metadata": {
        "id": "HAypUmM7X4dg"
      },
      "source": [
        "Python posee dos estilos de formatos. Un estilo más antiguo, en el que se especifica, por ejemplo, el número n de cifras decimales que se imprimirá tendrá un número de tipo float denotado por %n.f y %.d que transforma un número numero decimal a un entero."
      ]
    },
    {
      "cell_type": "code",
      "source": [
        "s2 = \"value1 = %.3f value2 = %d\" % (3.1415, 2.49)\n",
        "print(s2)"
      ],
      "metadata": {
        "colab": {
          "base_uri": "https://localhost:8080/"
        },
        "id": "00kp7ai2hXNm",
        "outputId": "b8239b5b-a89c-4429-bcb1-38b3ed8f43ba"
      },
      "execution_count": null,
      "outputs": [
        {
          "output_type": "stream",
          "name": "stdout",
          "text": [
            "value1 = 3.142 value2 = 2\n"
          ]
        }
      ]
    },
    {
      "cell_type": "code",
      "source": [
        "print(\"Las líneas nuevas son indicadas por \\nlos espacios por \\t...\")\n",
        "\n",
        "print(r\"Las líneas nuevas son indicada por \\n y los espacios por \\t. r indica raw string\")"
      ],
      "metadata": {
        "colab": {
          "base_uri": "https://localhost:8080/"
        },
        "id": "2oc0EgB-ho_Q",
        "outputId": "af5e1120-145a-460f-bfae-ec8326b89540"
      },
      "execution_count": null,
      "outputs": [
        {
          "output_type": "stream",
          "name": "stdout",
          "text": [
            "Las líneas nuevas son indicadas por \n",
            "los espacios por \t...\n",
            "Las líneas nuevas son indicada por \\n y los espacios por \\t. r indica raw string\n"
          ]
        }
      ]
    },
    {
      "cell_type": "markdown",
      "metadata": {
        "id": "n69a_yD2YJNX"
      },
      "source": [
        "<p><a name=\"alist\"></a></p>\n",
        "\n",
        "### 2.5.2. Listas\n",
        "\n",
        "Las listas son muy similares a los `strings` con la excepción de que los elementos de una lista pueden ser de cualquier tipo.\n",
        "\n",
        "La sintaxis en Python es de la forma `[...]`."
      ]
    },
    {
      "cell_type": "code",
      "source": [
        "l=[0,1,2,3]\n",
        "print(type(l))\n",
        "print(l)"
      ],
      "metadata": {
        "id": "S7QH4DKdiCsO"
      },
      "execution_count": null,
      "outputs": []
    },
    {
      "cell_type": "markdown",
      "metadata": {
        "id": "WsKY90PSYWr4"
      },
      "source": [
        "Podemos usar las mismas técnicas de *slicing* que usamos en los *strings\n",
        "\n",
        "Recuerdar que la indexación inicia en 0 y no se considera el extremo derecho del intervalo."
      ]
    },
    {
      "cell_type": "code",
      "source": [
        "print(l[:])\n",
        "print(l[0:2])\n",
        "print(l[::2])"
      ],
      "metadata": {
        "colab": {
          "base_uri": "https://localhost:8080/"
        },
        "id": "wy2RRoGYoJZv",
        "outputId": "2a74b007-69ea-4573-bac4-b89a42957359"
      },
      "execution_count": null,
      "outputs": [
        {
          "output_type": "stream",
          "name": "stdout",
          "text": [
            "[0, 1, 2, 3]\n",
            "[0, 1]\n",
            "[0, 2]\n"
          ]
        }
      ]
    },
    {
      "cell_type": "markdown",
      "metadata": {
        "id": "NRqyejn5Y4bm"
      },
      "source": [
        "Los elementos de una lista no tiene que ser todos del mismo "
      ]
    },
    {
      "cell_type": "code",
      "source": [
        "l = [1, 'a', 1.0, False]\n",
        "l"
      ],
      "metadata": {
        "colab": {
          "base_uri": "https://localhost:8080/"
        },
        "id": "bSRsR2T2oZse",
        "outputId": "c6c8eb42-26f4-4147-eec5-eb9b0022b629"
      },
      "execution_count": null,
      "outputs": [
        {
          "output_type": "execute_result",
          "data": {
            "text/plain": [
              "[1, 'a', 1.0, False]"
            ]
          },
          "metadata": {},
          "execution_count": 70
        }
      ]
    },
    {
      "cell_type": "code",
      "source": [
        "inicio = 1\n",
        "final = 16\n",
        "paso = 2\n",
        "\n",
        "list(range(inicio, final, paso))"
      ],
      "metadata": {
        "colab": {
          "base_uri": "https://localhost:8080/"
        },
        "id": "OZjO3wsTpIbl",
        "outputId": "e0e94e08-ffa6-46a1-977d-0c5ea251f79f"
      },
      "execution_count": null,
      "outputs": [
        {
          "output_type": "execute_result",
          "data": {
            "text/plain": [
              "[1, 3, 5, 7, 9, 11, 13, 15]"
            ]
          },
          "metadata": {},
          "execution_count": 75
        }
      ]
    },
    {
      "cell_type": "code",
      "source": [
        "# Convertir un string en una lista casteando mediante list\n",
        "\n",
        "print(s)\n",
        "\n",
        "s2 = list(s)\n",
        "\n",
        "s2"
      ],
      "metadata": {
        "colab": {
          "base_uri": "https://localhost:8080/"
        },
        "id": "E91mzyfqpNgx",
        "outputId": "62a01cdb-3798-4812-d8f0-a0e00beeab0b"
      },
      "execution_count": null,
      "outputs": [
        {
          "output_type": "stream",
          "name": "stdout",
          "text": [
            "Hola mundo\n"
          ]
        },
        {
          "output_type": "execute_result",
          "data": {
            "text/plain": [
              "['H', 'o', 'l', 'a', ' ', 'm', 'u', 'n', 'd', 'o']"
            ]
          },
          "metadata": {},
          "execution_count": 77
        }
      ]
    },
    {
      "cell_type": "code",
      "source": [
        "# Organización de la lista\n",
        "s2.sort()\n",
        "\n",
        "print(s2)"
      ],
      "metadata": {
        "colab": {
          "base_uri": "https://localhost:8080/"
        },
        "id": "DyaVTA6op4yw",
        "outputId": "c0082fda-effe-4c8a-dc45-c7bb2df7d555"
      },
      "execution_count": null,
      "outputs": [
        {
          "output_type": "stream",
          "name": "stdout",
          "text": [
            "[' ', 'H', 'a', 'd', 'l', 'm', 'n', 'o', 'o', 'u']\n"
          ]
        }
      ]
    },
    {
      "cell_type": "markdown",
      "metadata": {
        "id": "0edq557rZahR"
      },
      "source": [
        "***Adición, inserción, modificación y remoción de elementos de una lista***\n"
      ]
    },
    {
      "cell_type": "code",
      "source": [
        "# Creación de una lista vacía\n",
        "l = []\n",
        "\n",
        "# Adición de elementos usando `append`\n",
        "l.append(\"A\")\n",
        "l.append(\"d\")\n",
        "l.append(\"d\")\n",
        "\n",
        "print(l)\n"
      ],
      "metadata": {
        "colab": {
          "base_uri": "https://localhost:8080/"
        },
        "id": "mG0jlk5qqEpk",
        "outputId": "39f91c91-270a-4ae7-e7df-054138f23271"
      },
      "execution_count": null,
      "outputs": [
        {
          "output_type": "stream",
          "name": "stdout",
          "text": [
            "['A', 'd', 'd']\n"
          ]
        }
      ]
    },
    {
      "cell_type": "markdown",
      "metadata": {
        "id": "rFyG3dkmZlUu"
      },
      "source": [
        "Podemos modificar una lista al asignar nuevos valores a elementos de esa lista, es decir, las listas son *mutables*."
      ]
    },
    {
      "cell_type": "code",
      "source": [
        "l[1] = \"p\"\n",
        "l[2] = \"t\"\n",
        "\n",
        "print(l)"
      ],
      "metadata": {
        "colab": {
          "base_uri": "https://localhost:8080/"
        },
        "id": "VrK-ODRT5TxM",
        "outputId": "3065d105-da6e-4ac4-f92a-ad13e650d8dd"
      },
      "execution_count": null,
      "outputs": [
        {
          "output_type": "stream",
          "name": "stdout",
          "text": [
            "['A', 'p', 't']\n"
          ]
        }
      ]
    },
    {
      "cell_type": "code",
      "source": [
        "l[1:3] = [\"s\", \"m\"]\n",
        "\n",
        "print(l)"
      ],
      "metadata": {
        "colab": {
          "base_uri": "https://localhost:8080/"
        },
        "id": "9PQI3-aO5dDu",
        "outputId": "a9683633-2e67-4807-e688-f3dbeccd30ff"
      },
      "execution_count": null,
      "outputs": [
        {
          "output_type": "stream",
          "name": "stdout",
          "text": [
            "['A', 's', 'm']\n"
          ]
        }
      ]
    },
    {
      "cell_type": "markdown",
      "metadata": {
        "id": "o-5-hMZfaJsj"
      },
      "source": [
        "Inserción de elementos mediante `insert`.\n"
      ]
    },
    {
      "cell_type": "code",
      "source": [
        "l.insert(0, \"i\")\n",
        "l.insert(1, \"n\")\n",
        "l.insert(2, \"s\")\n",
        "l.insert(3, \"e\")\n",
        "l.insert(4, \"r\")\n",
        "l.insert(5, \"t\")\n",
        "\n",
        "print(l)"
      ],
      "metadata": {
        "colab": {
          "base_uri": "https://localhost:8080/"
        },
        "id": "1dZ2MqrJ5jBg",
        "outputId": "75a703ab-93cc-4486-977b-58d81915d452"
      },
      "execution_count": null,
      "outputs": [
        {
          "output_type": "stream",
          "name": "stdout",
          "text": [
            "['i', 'n', 's', 'e', 'r', 't', 'A', 's', 'm']\n"
          ]
        }
      ]
    },
    {
      "cell_type": "markdown",
      "metadata": {
        "id": "8bRiV-VkaXoY"
      },
      "source": [
        "Remoción del primer elemento de un valor específico mendiante remove"
      ]
    },
    {
      "cell_type": "code",
      "source": [
        "l.remove(\"A\")\n",
        "\n",
        "print(l)"
      ],
      "metadata": {
        "colab": {
          "base_uri": "https://localhost:8080/"
        },
        "id": "TqnlkvJs5r8c",
        "outputId": "8d2d130f-423f-40fc-934e-a31d839c2925"
      },
      "execution_count": null,
      "outputs": [
        {
          "output_type": "stream",
          "name": "stdout",
          "text": [
            "['i', 'n', 's', 'e', 'r', 't', 's', 'm']\n"
          ]
        }
      ]
    },
    {
      "cell_type": "markdown",
      "metadata": {
        "id": "EEls3LSVanbM"
      },
      "source": [
        "Remoción de un elemento en una posición específica usando `del`"
      ]
    },
    {
      "cell_type": "code",
      "source": [
        "del l[7]\n",
        "del l[6]\n",
        "\n",
        "print(l)"
      ],
      "metadata": {
        "colab": {
          "base_uri": "https://localhost:8080/"
        },
        "id": "Jlu8hENh51_y",
        "outputId": "2ac552cd-633c-4347-e84a-fb8271f92f0a"
      },
      "execution_count": null,
      "outputs": [
        {
          "output_type": "stream",
          "name": "stdout",
          "text": [
            "['i', 'n', 's', 'e', 'r', 't']\n"
          ]
        }
      ]
    }
  ]
}